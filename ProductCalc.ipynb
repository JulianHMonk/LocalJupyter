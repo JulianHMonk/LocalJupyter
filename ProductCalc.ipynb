import ipywidgets as widgets
from IPython.display import display

# //*******************************************************************************************************//

CostPerMonth=widgets.IntSlider(
    value=0,
    min=0,
    max=2000,
    step=100,
    description='Cost/Month:',
    disabled=False,
    continuous_update=False,
    orientation='horizontal',
    readout=True,
    readout_format='d'
)
CostPerMonthText = widgets.IntText()
display(CostPerMonth,CostPerMonthText)
widgets.jslink((CostPerMonth, 'value'), (CostPerMonthText, 'value'))

# //*******************************************************************************************************//

CostPerMetric=widgets.FloatSlider(
    value=0,
    min=0,
    max=2000,
    step=.0001,
    description='Cost/Metric:',
    disabled=False,
    continuous_update=False,
    orientation='horizontal',
    readout=True,
    readout_format='.1f'
)
CostPerMetricText = widgets.FloatText()
display(CostPerMetric,CostPerMetricText)
widgets.jslink((CostPerMetric, 'value'), (CostPerMetricText, 'value'))

# //*******************************************************************************************************//

NumOfMetric=widgets.IntSlider(
    value=0,
    min=0,
    max=5000,
    step=1,
    description='Num Of Metric:',
    disabled=False,
    continuous_update=False,
    orientation='horizontal',
    readout=True,
    readout_format='d'
)
NumOfMetricText = widgets.IntText()
display(NumOfMetric,NumOfMetricText)
widgets.jslink((NumOfMetric, 'value'), (NumOfMetricText, 'value'))

# //*******************************************************************************************************//

MetricDropdown = widgets.Dropdown(
    options=['Per/Host/Month','Per/Minute/Month'],
    value='Per/Host/Month',
    description='Metric',
    diabled=False,
    )
display(MetricDropdown)

# //*******************************************************************************************************//

CalcButton=widgets.Button(description='Calculate Total')
display(CalcButton)

def CalcButton_eventhandler(obj):
    print('LOG START')
    print('Cost Per Month = {}'.format(CostPerMonth.value))
    print('Metric Selected = {}'.format(MetricDropdown.value))
    print('Cost Per Metric = {}'.format(CostPerMonth.value))
    print('Estimation of Metric = {}'.format(CostPerMonth.value))
    print('CostPerMonth+CostPerMetric*NumberOfMetric = ({}+{}*{}={})'.format(CostPerMonth.value,CostPerMetric.value,NumOfMetric.value,CostPerMonth.value+CostPerMetric.value*NumOfMetric.value))
    print('LOG END')
CalcButton.on_click(CalcButton_eventhandler)
    
    
