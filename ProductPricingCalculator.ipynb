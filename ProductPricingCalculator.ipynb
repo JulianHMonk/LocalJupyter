{
 "cells": [
  {
   "cell_type": "code",
   "execution_count": 3,
   "metadata": {},
   "outputs": [
    {
     "data": {
      "application/vnd.jupyter.widget-view+json": {
       "model_id": "dfbc574e331d4e3ba28f69aec1af51ac",
       "version_major": 2,
       "version_minor": 0
      },
      "text/plain": [
       "Textarea(value='Scenario Name', description='Scenario:', placeholder='Type something')"
      ]
     },
     "metadata": {},
     "output_type": "display_data"
    },
    {
     "data": {
      "application/vnd.jupyter.widget-view+json": {
       "model_id": "11ebe7bb31a649a1abf45fa2931c7e05",
       "version_major": 2,
       "version_minor": 0
      },
      "text/plain": [
       "IntSlider(value=0, continuous_update=False, description='Cost/Month:', max=2000, step=100)"
      ]
     },
     "metadata": {},
     "output_type": "display_data"
    },
    {
     "data": {
      "application/vnd.jupyter.widget-view+json": {
       "model_id": "aa82e239b4934e7ba703c845cba0def4",
       "version_major": 2,
       "version_minor": 0
      },
      "text/plain": [
       "IntText(value=0)"
      ]
     },
     "metadata": {},
     "output_type": "display_data"
    },
    {
     "data": {
      "application/vnd.jupyter.widget-view+json": {
       "model_id": "fb31cbf59abb42d08ab83d60cb737fba",
       "version_major": 2,
       "version_minor": 0
      },
      "text/plain": [
       "FloatSlider(value=0.0, continuous_update=False, description='Cost/Metric:', max=2000.0, readout_format='.1f', …"
      ]
     },
     "metadata": {},
     "output_type": "display_data"
    },
    {
     "data": {
      "application/vnd.jupyter.widget-view+json": {
       "model_id": "91f13f56a9454cbe92364a2291f7306c",
       "version_major": 2,
       "version_minor": 0
      },
      "text/plain": [
       "FloatText(value=0.0)"
      ]
     },
     "metadata": {},
     "output_type": "display_data"
    },
    {
     "data": {
      "application/vnd.jupyter.widget-view+json": {
       "model_id": "4aa189644e2d4d788be5b7b978033134",
       "version_major": 2,
       "version_minor": 0
      },
      "text/plain": [
       "IntSlider(value=0, continuous_update=False, description='Num Of Metric:', max=10000000)"
      ]
     },
     "metadata": {},
     "output_type": "display_data"
    },
    {
     "data": {
      "application/vnd.jupyter.widget-view+json": {
       "model_id": "527dd9c0105b4f02b9465487bcdcf606",
       "version_major": 2,
       "version_minor": 0
      },
      "text/plain": [
       "IntText(value=0)"
      ]
     },
     "metadata": {},
     "output_type": "display_data"
    },
    {
     "data": {
      "application/vnd.jupyter.widget-view+json": {
       "model_id": "17cc0f31c8bb463299d021339039268f",
       "version_major": 2,
       "version_minor": 0
      },
      "text/plain": [
       "Dropdown(description='Metric', options=('Per/Host/Month', 'Per/Minute/Month'), value='Per/Host/Month')"
      ]
     },
     "metadata": {},
     "output_type": "display_data"
    },
    {
     "data": {
      "application/vnd.jupyter.widget-view+json": {
       "model_id": "db5a7c8457074a3f8259c485ccceeca4",
       "version_major": 2,
       "version_minor": 0
      },
      "text/plain": [
       "Button(description='Calculate Total', style=ButtonStyle())"
      ]
     },
     "metadata": {},
     "output_type": "display_data"
    },
    {
     "name": "stdout",
     "output_type": "stream",
     "text": [
      "**LOG START**\n",
      " \n",
      "Scenario:\n",
      "Enterprise T1 - 240 Seats\n",
      "Encrypted Recording \n",
      " \n",
      "Cost Per Month = 500\n",
      "Metric Selected = Per/Host/Month\n",
      "Cost Per Metric = 2.5\n",
      "Estimation of Metric = 500\n",
      "CostPerMonth+CostPerMetric*NumberOfMetric = (500+2.5*240=1100.0)\n",
      "TOTAL: 1100.0\n",
      " \n",
      "**LOG END**\n"
     ]
    }
   ],
   "source": [
    "import ipywidgets as widgets\n",
    "from IPython.display import display\n",
    "\n",
    "ScenarioText=widgets.Textarea(\n",
    "    value='Scenario Name',\n",
    "    placeholder='Type something',\n",
    "    description='Scenario:',\n",
    "    disabled=False,\n",
    "    readout=True\n",
    ")\n",
    "display(ScenarioText)\n",
    "\n",
    "# //*******************************************************************************************************//\n",
    "\n",
    "CostPerMonth=widgets.IntSlider(\n",
    "    value=0,\n",
    "    min=0,\n",
    "    max=2000,\n",
    "    step=100,\n",
    "    description='Cost/Month:',\n",
    "    disabled=False,\n",
    "    continuous_update=False,\n",
    "    orientation='horizontal',\n",
    "    readout=True,\n",
    "    readout_format='d'\n",
    ")\n",
    "CostPerMonthText = widgets.IntText()\n",
    "display(CostPerMonth,CostPerMonthText)\n",
    "widgets.jslink((CostPerMonth, 'value'), (CostPerMonthText, 'value'))\n",
    "\n",
    "# //*******************************************************************************************************//\n",
    "\n",
    "CostPerMetric=widgets.FloatSlider(\n",
    "    value=0,\n",
    "    min=0,\n",
    "    max=2000,\n",
    "    step=.0001,\n",
    "    description='Cost/Metric:',\n",
    "    disabled=False,\n",
    "    continuous_update=False,\n",
    "    orientation='horizontal',\n",
    "    readout=True,\n",
    "    readout_format='.1f'\n",
    ")\n",
    "CostPerMetricText = widgets.FloatText()\n",
    "display(CostPerMetric,CostPerMetricText)\n",
    "widgets.jslink((CostPerMetric, 'value'), (CostPerMetricText, 'value'))\n",
    "\n",
    "# //*******************************************************************************************************//\n",
    "\n",
    "NumOfMetric=widgets.IntSlider(\n",
    "    value=0,\n",
    "    min=0,\n",
    "    max=10000000,\n",
    "    step=1,\n",
    "    description='Num Of Metric:',\n",
    "    disabled=False,\n",
    "    continuous_update=False,\n",
    "    orientation='horizontal',\n",
    "    readout=True,\n",
    "    readout_format='d'\n",
    ")\n",
    "NumOfMetricText = widgets.IntText()\n",
    "display(NumOfMetric,NumOfMetricText)\n",
    "widgets.jslink((NumOfMetric, 'value'), (NumOfMetricText, 'value'))\n",
    "\n",
    "# //*******************************************************************************************************//\n",
    "\n",
    "MetricDropdown = widgets.Dropdown(\n",
    "    options=['Per/Host/Month','Per/Minute/Month'],\n",
    "    value='Per/Host/Month',\n",
    "    description='Metric',\n",
    "    diabled=False,\n",
    "    )\n",
    "display(MetricDropdown)\n",
    "\n",
    "# //*******************************************************************************************************//\n",
    "\n",
    "CalcButton=widgets.Button(description='Calculate Total')\n",
    "display(CalcButton)\n",
    "\n",
    "def CalcButton_eventhandler(obj):\n",
    "    print('**LOG START**')\n",
    "    print(' ')\n",
    "    print('Scenario:')\n",
    "    print('{}'.format(ScenarioText.value))\n",
    "    print(' ')\n",
    "    print('Cost Per Month = {}'.format(CostPerMonth.value))\n",
    "    print('Metric Selected = {}'.format(MetricDropdown.value))\n",
    "    print('Cost Per Metric = {}'.format(CostPerMetric.value))\n",
    "    print('Estimation of Metric = {}'.format(CostPerMonth.value))\n",
    "    print('CostPerMonth+CostPerMetric*NumberOfMetric = ({}+{}*{}={})'.format(CostPerMonth.value,CostPerMetric.value,NumOfMetric.value,CostPerMonth.value+CostPerMetric.value*NumOfMetric.value))\n",
    "    print('TOTAL: {}'.format(CostPerMonth.value+CostPerMetric.value*NumOfMetric.value))\n",
    "    print(' ')\n",
    "    print('**LOG END**')\n",
    "    \n",
    "    \n",
    "CalcButton.on_click(CalcButton_eventhandler)\n",
    "    \n",
    "    \n"
   ]
  },
  {
   "cell_type": "code",
   "execution_count": null,
   "metadata": {},
   "outputs": [],
   "source": []
  },
  {
   "cell_type": "code",
   "execution_count": null,
   "metadata": {},
   "outputs": [],
   "source": []
  },
  {
   "cell_type": "code",
   "execution_count": null,
   "metadata": {},
   "outputs": [],
   "source": []
  }
 ],
 "metadata": {
  "kernelspec": {
   "display_name": "Python 3",
   "language": "python",
   "name": "python3"
  },
  "language_info": {
   "codemirror_mode": {
    "name": "ipython",
    "version": 3
   },
   "file_extension": ".py",
   "mimetype": "text/x-python",
   "name": "python",
   "nbconvert_exporter": "python",
   "pygments_lexer": "ipython3",
   "version": "3.7.8"
  }
 },
 "nbformat": 4,
 "nbformat_minor": 4
}
