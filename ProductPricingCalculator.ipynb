{
 "cells": [
  {
   "cell_type": "code",
   "execution_count": 3,
   "metadata": {},
   "outputs": [
    {
     "data": {
      "application/vnd.jupyter.widget-view+json": {
       "model_id": "37cc0b225bcf4b249e8c861b7d5c97d5",
       "version_major": 2,
       "version_minor": 0
      },
      "text/plain": [
       "IntSlider(value=0, continuous_update=False, description='Cost/Month:', max=2000, step=100)"
      ]
     },
     "metadata": {},
     "output_type": "display_data"
    },
    {
     "data": {
      "application/vnd.jupyter.widget-view+json": {
       "model_id": "1a63dea3f82b4ae7b45e13200e4f3bfd",
       "version_major": 2,
       "version_minor": 0
      },
      "text/plain": [
       "IntText(value=0)"
      ]
     },
     "metadata": {},
     "output_type": "display_data"
    },
    {
     "data": {
      "application/vnd.jupyter.widget-view+json": {
       "model_id": "c856d2777f1745caba5a3c81f3309b59",
       "version_major": 2,
       "version_minor": 0
      },
      "text/plain": [
       "FloatSlider(value=0.0, continuous_update=False, description='Cost/Metric:', max=2000.0, readout_format='.1f', …"
      ]
     },
     "metadata": {},
     "output_type": "display_data"
    },
    {
     "data": {
      "application/vnd.jupyter.widget-view+json": {
       "model_id": "1118dc578bf14ae3a8b97ad01db2de62",
       "version_major": 2,
       "version_minor": 0
      },
      "text/plain": [
       "FloatText(value=0.0)"
      ]
     },
     "metadata": {},
     "output_type": "display_data"
    },
    {
     "data": {
      "application/vnd.jupyter.widget-view+json": {
       "model_id": "8091f725af8040bdb5f3bcd9d9e1edea",
       "version_major": 2,
       "version_minor": 0
      },
      "text/plain": [
       "IntSlider(value=0, continuous_update=False, description='Num Of Metric:', max=5000)"
      ]
     },
     "metadata": {},
     "output_type": "display_data"
    },
    {
     "data": {
      "application/vnd.jupyter.widget-view+json": {
       "model_id": "48ad75411b924f48a1650a0599d1467a",
       "version_major": 2,
       "version_minor": 0
      },
      "text/plain": [
       "IntText(value=0)"
      ]
     },
     "metadata": {},
     "output_type": "display_data"
    },
    {
     "data": {
      "application/vnd.jupyter.widget-view+json": {
       "model_id": "f075da7aed6942cf81b0cfa7542b695a",
       "version_major": 2,
       "version_minor": 0
      },
      "text/plain": [
       "Dropdown(description='Metric', options=('Per/Host/Month', 'Per/Minute/Month'), value='Per/Host/Month')"
      ]
     },
     "metadata": {},
     "output_type": "display_data"
    },
    {
     "data": {
      "application/vnd.jupyter.widget-view+json": {
       "model_id": "5daecb27e6f64b718776247e4d88dd5d",
       "version_major": 2,
       "version_minor": 0
      },
      "text/plain": [
       "Button(description='Calculate Total', style=ButtonStyle())"
      ]
     },
     "metadata": {},
     "output_type": "display_data"
    },
    {
     "name": "stdout",
     "output_type": "stream",
     "text": [
      "**LOG START**\n",
      " \n",
      "Cost Per Month = 1200\n",
      "Metric Selected = Per/Host/Month\n",
      "Cost Per Metric = 7.5\n",
      "Estimation of Metric = 1200\n",
      "CostPerMonth+CostPerMetric*NumberOfMetric = (1200+7.5*500=4950.0)\n",
      "TOTAL: 4950.0\n",
      " \n",
      "**LOG END**\n"
     ]
    }
   ],
   "source": [
    "import ipywidgets as widgets\n",
    "from IPython.display import display\n",
    "\n",
    "# //*******************************************************************************************************//\n",
    "\n",
    "CostPerMonth=widgets.IntSlider(\n",
    "    value=0,\n",
    "    min=0,\n",
    "    max=2000,\n",
    "    step=100,\n",
    "    description='Cost/Month:',\n",
    "    disabled=False,\n",
    "    continuous_update=False,\n",
    "    orientation='horizontal',\n",
    "    readout=True,\n",
    "    readout_format='d'\n",
    ")\n",
    "CostPerMonthText = widgets.IntText()\n",
    "display(CostPerMonth,CostPerMonthText)\n",
    "widgets.jslink((CostPerMonth, 'value'), (CostPerMonthText, 'value'))\n",
    "\n",
    "# //*******************************************************************************************************//\n",
    "\n",
    "CostPerMetric=widgets.FloatSlider(\n",
    "    value=0,\n",
    "    min=0,\n",
    "    max=2000,\n",
    "    step=.0001,\n",
    "    description='Cost/Metric:',\n",
    "    disabled=False,\n",
    "    continuous_update=False,\n",
    "    orientation='horizontal',\n",
    "    readout=True,\n",
    "    readout_format='.1f'\n",
    ")\n",
    "CostPerMetricText = widgets.FloatText()\n",
    "display(CostPerMetric,CostPerMetricText)\n",
    "widgets.jslink((CostPerMetric, 'value'), (CostPerMetricText, 'value'))\n",
    "\n",
    "# //*******************************************************************************************************//\n",
    "\n",
    "NumOfMetric=widgets.IntSlider(\n",
    "    value=0,\n",
    "    min=0,\n",
    "    max=5000,\n",
    "    step=1,\n",
    "    description='Num Of Metric:',\n",
    "    disabled=False,\n",
    "    continuous_update=False,\n",
    "    orientation='horizontal',\n",
    "    readout=True,\n",
    "    readout_format='d'\n",
    ")\n",
    "NumOfMetricText = widgets.IntText()\n",
    "display(NumOfMetric,NumOfMetricText)\n",
    "widgets.jslink((NumOfMetric, 'value'), (NumOfMetricText, 'value'))\n",
    "\n",
    "# //*******************************************************************************************************//\n",
    "\n",
    "MetricDropdown = widgets.Dropdown(\n",
    "    options=['Per/Host/Month','Per/Minute/Month'],\n",
    "    value='Per/Host/Month',\n",
    "    description='Metric',\n",
    "    diabled=False,\n",
    "    )\n",
    "display(MetricDropdown)\n",
    "\n",
    "# //*******************************************************************************************************//\n",
    "\n",
    "CalcButton=widgets.Button(description='Calculate Total')\n",
    "display(CalcButton)\n",
    "\n",
    "def CalcButton_eventhandler(obj):\n",
    "    print('**LOG START**')\n",
    "    print(' ')\n",
    "    print('Cost Per Month = {}'.format(CostPerMonth.value))\n",
    "    print('Metric Selected = {}'.format(MetricDropdown.value))\n",
    "    print('Cost Per Metric = {}'.format(CostPerMetric.value))\n",
    "    print('Estimation of Metric = {}'.format(CostPerMonth.value))\n",
    "    print('CostPerMonth+CostPerMetric*NumberOfMetric = ({}+{}*{}={})'.format(CostPerMonth.value,CostPerMetric.value,NumOfMetric.value,CostPerMonth.value+CostPerMetric.value*NumOfMetric.value))\n",
    "    print('TOTAL: {}'.format(CostPerMonth.value+CostPerMetric.value*NumOfMetric.value))\n",
    "    print(' ')\n",
    "    print('**LOG END**')\n",
    "    \n",
    "    \n",
    "CalcButton.on_click(CalcButton_eventhandler)\n",
    "    \n",
    "    \n"
   ]
  },
  {
   "cell_type": "code",
   "execution_count": null,
   "metadata": {},
   "outputs": [],
   "source": []
  }
 ],
 "metadata": {
  "kernelspec": {
   "display_name": "Python 3",
   "language": "python",
   "name": "python3"
  },
  "language_info": {
   "codemirror_mode": {
    "name": "ipython",
    "version": 3
   },
   "file_extension": ".py",
   "mimetype": "text/x-python",
   "name": "python",
   "nbconvert_exporter": "python",
   "pygments_lexer": "ipython3",
   "version": "3.7.8"
  }
 },
 "nbformat": 4,
 "nbformat_minor": 4
}
